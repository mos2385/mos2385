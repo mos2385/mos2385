{
  "nbformat": 4,
  "nbformat_minor": 0,
  "metadata": {
    "colab": {
      "provenance": [],
      "authorship_tag": "ABX9TyPIGZOB1o9OS2mOq46hXRM7",
      "include_colab_link": true
    },
    "kernelspec": {
      "name": "python3",
      "display_name": "Python 3"
    },
    "language_info": {
      "name": "python"
    }
  },
  "cells": [
    {
      "cell_type": "markdown",
      "metadata": {
        "id": "view-in-github",
        "colab_type": "text"
      },
      "source": [
        "<a href=\"https://colab.research.google.com/github/mos2385/mos2385/blob/main/Assignment1.ipynb\" target=\"_parent\"><img src=\"https://colab.research.google.com/assets/colab-badge.svg\" alt=\"Open In Colab\"/></a>"
      ]
    },
    {
      "cell_type": "markdown",
      "source": [
        "- 1. Currency Converter\n",
        "- Scenario:\n",
        "- Your friend traveled to the USA and needs a handy tool for converting Naira to US Dollars. Write a\n",
        "Python program that:\n",
        "- Asks the user to enter an amount in Naira.\n",
        "- Converts it to US Dollars using an exchange rate (e.g., 1 USD = 1500 NGN).\n",
        "- Displays the equivalent amount in dollars.\n",
        " Bonus: Allow the user to enter different exchange rates"
      ],
      "metadata": {
        "id": "gmXHeBLRVNug"
      }
    },
    {
      "cell_type": "code",
      "execution_count": 5,
      "metadata": {
        "colab": {
          "base_uri": "https://localhost:8080/"
        },
        "id": "z9IiS1_pVJhg",
        "outputId": "d3e5f698-3e05-49a5-f09f-1fb4285cbf4f"
      },
      "outputs": [
        {
          "output_type": "stream",
          "name": "stdout",
          "text": [
            "Enter your amount in naira:3000\n",
            "Enter exchange rate :1500\n",
            "N3000.0 in USD is $2.0\n"
          ]
        }
      ],
      "source": [
        "Amount_in_naira = float(input(\"Enter your amount in naira:\"))\n",
        "Exchange_rate = float(input(\"Enter exchange rate :\"))\n",
        "Amount_in_USD = Amount_in_naira / Exchange_rate\n",
        "print(f\"N{Amount_in_naira} in USD is ${Amount_in_USD}\")"
      ]
    },
    {
      "cell_type": "markdown",
      "source": [
        "- 2. Age Calculator\n",
        "- Scenario:\n",
        "- Your younger cousin keeps forgetting how old they are! Help them by writing a program that:\n",
        "- Asks for their birth year.\n",
        "- Calculates their age based on the current year.\n",
        "- Prints their age in a friendly message like: \"You are 15 years old!\"\n",
        " Bonus: Ask for their birth month and determine if their birthday has passed this year"
      ],
      "metadata": {
        "id": "9FQgwQM7Y-ix"
      }
    },
    {
      "cell_type": "code",
      "source": [
        "birth_year = int(input(\"Enter your year of birth: \"))\n",
        "current_year = 2025\n",
        "age = 2025 - birth_year\n",
        "print(f\"You are {age} years old!\")"
      ],
      "metadata": {
        "colab": {
          "base_uri": "https://localhost:8080/"
        },
        "id": "beBNl4P5YhtJ",
        "outputId": "d5f0d682-7a26-482e-82ff-e5c1e8094a0e"
      },
      "execution_count": 11,
      "outputs": [
        {
          "output_type": "stream",
          "name": "stdout",
          "text": [
            "Enter your year of birth: 2000\n",
            "You are 25 years old!\n"
          ]
        }
      ]
    },
    {
      "cell_type": "markdown",
      "source": [
        "- 3. Simple Tip Calculator\n",
        "- Scenario:\n",
        "- You and your friends went out to eat, and now you need to split the bill fairly. Write a program that:\n",
        "- Asks for the total bill amount.\n",
        "- Asks how many friends are splitting the bill.\n",
        "- Asks for the tip percentage (e.g., 10%, 15%).\n",
        "- Calculates and prints how much each person should pay (including the tip).\n",
        "- Bonus: Round the final amount to 2 decimal places for a cleaner look.\n"
      ],
      "metadata": {
        "id": "WkjGEWr4bWJD"
      }
    },
    {
      "cell_type": "code",
      "source": [
        "total_bill = int(input(\"Enter the total amount of the bill: \"))\n",
        "No_of_friend = int(input(\"Enter the number of friends: \"))\n",
        "tip_percentage = int(input(\"Enter the tip percentage in which you are splitting :\"))\n",
        "tip_amount = (tip_percentage/100) *total_bill\n",
        "total_amount = total_bill + tip_amount\n",
        "print(f\"The total amount each person is paying is {total_amount} with {tip_percentage}%\")"
      ],
      "metadata": {
        "colab": {
          "base_uri": "https://localhost:8080/"
        },
        "id": "KMwK9U96cJ5O",
        "outputId": "7b41d1a8-c457-4533-b33d-61db17dd9a0a"
      },
      "execution_count": 13,
      "outputs": [
        {
          "output_type": "stream",
          "name": "stdout",
          "text": [
            "Enter the total amount of the bill: 4000\n",
            "Enter the number of friends: 3\n",
            "Enter the tip percentage in which you are splitting :15\n",
            "The total amount each person is paying is 4600.0 with 15%\n"
          ]
        }
      ]
    },
    {
      "cell_type": "markdown",
      "source": [
        "- 4. Time Converter\n",
        "- Scenario:\n",
        "-Your friend is trying to understand how long something will take. Write a program that:\n",
        "- Asks the user to enter a number of minutes.\n",
        "- Converts it into hours and minutes.\n",
        "- Displays the result in a friendly format, e.g., \"125 minutes is 2 hours and 5 minutes.\"\n",
        " - Bonus: Also allow input in seconds and convert to hours, minutes, and seconds."
      ],
      "metadata": {
        "id": "CucWHRI9cMRq"
      }
    },
    {
      "cell_type": "code",
      "source": [
        "Number_of_minutes = int(input(\"Enter the number of minutes :\"))\n",
        "Number_of_seconds = Number_of_minutes * 60\n",
        "Number_of_hours = Number_of_minutes // 60\n",
        "minutes = Number_of_minutes % 60\n",
        "print(f\"{Number_of_minutes} minutes is {Number_of_hours} and {minutes} minutes and {Number_of_seconds} seconds\")"
      ],
      "metadata": {
        "colab": {
          "base_uri": "https://localhost:8080/"
        },
        "id": "NpIw_4_XchJC",
        "outputId": "5e9b78da-644e-49e7-ca40-7547ed91417f"
      },
      "execution_count": 8,
      "outputs": [
        {
          "output_type": "stream",
          "name": "stdout",
          "text": [
            "Enter the number of minutes :125\n",
            "125 minutes is 2 and 5 minutes and 7500 seconds\n"
          ]
        }
      ]
    },
    {
      "cell_type": "markdown",
      "source": [
        "- 5. Shopping Discount Calculator\n",
        "Scenario:\n",
        "- A clothing store is running a sale! Write a program that:\n",
        "- Asks for the original price of an item.\n",
        "- Asks for the discount percentage.\n",
        "- Calculates the final price after applying the discount.\n",
        "- Displays the result in a friendly message.\n",
        " - Bonus: If the final price is above a certain amount, print a message suggesting the user should look\n",
        "for a bigger discount."
      ],
      "metadata": {
        "id": "wA5U9a30cifx"
      }
    },
    {
      "cell_type": "code",
      "source": [
        "Original_price = float(input(\"Enter the original p[rice of the item: \"))\n",
        "discount_percentage = int(input(\"Enter the discount percentage : \"))\n",
        "discount_amount = Original_price * 0.9\n",
        "print(f\"The final amount after applying {discount_percentage}% is {discount_amount}\")\n"
      ],
      "metadata": {
        "colab": {
          "base_uri": "https://localhost:8080/"
        },
        "id": "5lbj8miHc7o4",
        "outputId": "f0c88d4c-ff25-48ca-b3ba-272ca05a55ac"
      },
      "execution_count": 9,
      "outputs": [
        {
          "output_type": "stream",
          "name": "stdout",
          "text": [
            "Enter the original p[rice of the item: 5000\n",
            "Enter the discount percentage : 5\n",
            "The final amount after applying 5% is 4500.0\n"
          ]
        }
      ]
    },
    {
      "cell_type": "markdown",
      "source": [
        "- 6. Movie Ticket Price Calculator\n",
        "- Scenario:\n",
        "- A cinema charges different ticket prices based on age:\n",
        "- Children (0-12) = $5\n",
        "- Teenagers (13-19) = $8\n",
        "- Adults (20-60) = $12\n",
        "- Seniors (60+) = $7\n",
        "- Write a program that:\n",
        "- Asks the user for their age.\n",
        "- Determines the correct ticket price based on the age group.\n",
        "- Prints a message like \"Your ticket price is $8.\"\n",
        " Bonus: Ask if they have a student ID. If yes, apply a 10% discount.\n"
      ],
      "metadata": {
        "id": "88mAcRoDc9Kd"
      }
    },
    {
      "cell_type": "code",
      "source": [
        "user_age = int(input(\"Enter your age :\"))\n",
        "if user_age <= 12 :\n",
        "  ticket_price = 5\n",
        "elif user_age <= 19 :\n",
        "  ticket_price = 8\n",
        "elif user_age <= 60 :\n",
        "  ticket_price = 12\n",
        "else :\n",
        "  ticket_price = 7\n",
        "print(f\"Your ticket price is ${ticket_price}.\")"
      ],
      "metadata": {
        "colab": {
          "base_uri": "https://localhost:8080/"
        },
        "id": "w5KPFKvrd1yf",
        "outputId": "c4ef7915-8f7d-4fbe-e5ca-3f8a89fdcda7"
      },
      "execution_count": 16,
      "outputs": [
        {
          "output_type": "stream",
          "name": "stdout",
          "text": [
            "Enter your age :60\n",
            "Your ticket price is $12.\n"
          ]
        }
      ]
    },
    {
      "cell_type": "markdown",
      "source": [],
      "metadata": {
        "id": "2Rh-SkD6d2vh"
      }
    },
    {
      "cell_type": "markdown",
      "source": [
        "- 7. Fuel Cost Calculator\n",
        "- Scenario:\n",
        "- Your friend just got their first car and wants to estimate their fuel costs. Write a program that:\n",
        "- Asks how many kilometers they will travel.\n",
        "- Asks for their car's fuel consumption rate (liters per kilometer).\n",
        "- Asks for the price of fuel per liter.\n",
        "- Calculates and displays the total cost of fuel for the trip.\n",
        " - Bonus: Suggest using public transport if the cost is too high (e.g., above a certain amount"
      ],
      "metadata": {
        "id": "b4vL057sd4om"
      }
    },
    {
      "cell_type": "code",
      "source": [
        "kilometers = int(input(\"Enter the kilometers you want to travel: \"))\n",
        "consumptions_rate = float(input(\"Enter the rate your car consume fuel: \"))\n",
        "price_of_fuel = float(input(\"Enter the price of fuel per liter\"))\n",
        "total_cost_per_trip = kilometers * consumptions_rate * price_of_fuel\n",
        "print(f\"The total amount cost per trip is {total_cost_per_trip}\")"
      ],
      "metadata": {
        "colab": {
          "base_uri": "https://localhost:8080/"
        },
        "id": "1wqau5AOeQ-K",
        "outputId": "1f9536f6-5a19-433d-bd45-337f712bd547"
      },
      "execution_count": 17,
      "outputs": [
        {
          "output_type": "stream",
          "name": "stdout",
          "text": [
            "Enter the kilometers you want to travel: 5\n",
            "Enter the rate your car consume fuel: 2\n",
            "Enter the price of fuel per liter1600\n",
            "The total amount cost per trip is 16000.0\n"
          ]
        }
      ]
    },
    {
      "cell_type": "markdown",
      "source": [],
      "metadata": {
        "id": "a15KBRA8eRzz"
      }
    },
    {
      "cell_type": "markdown",
      "source": [
        "- 8. Water Intake Reminder\n",
        "- Scenario:\n",
        "- Health experts recommend drinking at least 2 liters of water per day. Write a program that:\n",
        "- Asks the user how many glasses of water they have had today.\n",
        "- Assumes 1 glass = 250ml (0.25 liters).\n",
        "- Calculates how much more water they need to drink to reach 2 liters.\n",
        "- Displays a message encouraging them to drink more if needed.\n",
        "- Bonus: If they exceed 2 liters, display a congratulatory message.\n"
      ],
      "metadata": {
        "id": "B7GdLPGGe0BF"
      }
    },
    {
      "cell_type": "code",
      "source": [
        "Glass_of_water_taken = float(input(\"Enter the amount of glass of water taken today (in liters)\"))\n",
        "A_glass = 0.25\n",
        "Total_water_taken = Glass_of_water_taken * 0.25\n",
        "if Total_water_taken == 2 :\n",
        "  print(\"Congratulations!\")\n",
        "else :\n",
        "  print(\"You have not drink up to 2 liters today\")\n"
      ],
      "metadata": {
        "colab": {
          "base_uri": "https://localhost:8080/"
        },
        "id": "po_hOXQHe-JW",
        "outputId": "633d94dc-64d1-4c70-dbe9-9f108b5d5bd0"
      },
      "execution_count": 21,
      "outputs": [
        {
          "output_type": "stream",
          "name": "stdout",
          "text": [
            "Enter the amount of glass of water taken today (in liters)1.5\n",
            "You have not drink up to 2 liters today\n"
          ]
        }
      ]
    },
    {
      "cell_type": "markdown",
      "source": [
        "- 9. Simple BMI Calculator\n",
        "- Scenario:\n",
        "- Your friend is trying to maintain a healthy weight and needs a BMI calculator. Write a program that:\n",
        "- Asks for their weight in kilograms.\n",
        "- Asks for their height in meters.\n",
        "- Calculates their Body Mass Index (BMI) using the formula: BMI=weightheight2BMI =\n",
        "\\frac{\\text{weight}}{\\text{height}^2}BMI=height2weight\n",
        "- Displays their BMI with a message like \"Your BMI is 22.5, which is normal weight.\"\n",
        " - Bonus: Add BMI categories (underweight, normal, overweight, obese)."
      ],
      "metadata": {
        "id": "NnUmcc95e_JG"
      }
    },
    {
      "cell_type": "code",
      "source": [
        "weight = float(input(\"Enter your weights in kilograms :\"))\n",
        "height = float(input(\"Enter your heights in meters : \"))\n",
        "BMI = weight / height **2\n",
        "print (f\"Your BMI is {BMI}\")\n",
        "if BMI < 22.5 :\n",
        " print(\"You are underweight\")\n",
        "elif BMI > 22.5 :\n",
        " print(\"You are overweight\")\n",
        "elif BMI == 22.5 :\n",
        "  print(\"Your weight is normal\")\n",
        "else:\n",
        "  print(\"You are obese\")"
      ],
      "metadata": {
        "colab": {
          "base_uri": "https://localhost:8080/"
        },
        "id": "lqirRztcfVt0",
        "outputId": "d6c1c05b-013c-4e2e-9000-887c91761fb0"
      },
      "execution_count": 23,
      "outputs": [
        {
          "output_type": "stream",
          "name": "stdout",
          "text": [
            "Enter your weights in kilograms :60\n",
            "Enter your heights in meters : 5\n",
            "Your BMI is 2.4\n",
            "You are underweight\n"
          ]
        }
      ]
    },
    {
      "cell_type": "markdown",
      "source": [
        "- 10. Personalized Greeting Message\n",
        "- Scenario:\n",
        "- You are building a fun personalized greeting program. - Write a program that:\n",
        "- Asks for the user's name.\n",
        "- Asks for their favorite color.\n",
        "- Asks for their favorite hobby.\n",
        "- Prints a fun greeting like:\n",
        "\"Hello Sarah! I bet you look great in blue while playing the guitar!\"\n",
        " - Bonus: Allow the user to enter their mood and customize the message accordingly\n"
      ],
      "metadata": {
        "id": "jM7VhxmufWlz"
      }
    },
    {
      "cell_type": "code",
      "source": [
        "username = input(\"Enter your username: \")\n",
        "Favourite_colour = input(\"Enter your favourite colour: \")\n",
        "Favourite_hobby = input(\"Enter your favourite hobby: \")\n",
        "Mood = input(\"Enter your mood\")\n",
        "print(f\"Hello {username}! i bet you look great in {Favourite_colour} while playing the {Favourite_hobby}\")\n"
      ],
      "metadata": {
        "colab": {
          "base_uri": "https://localhost:8080/"
        },
        "id": "Ybl4TEH6gVek",
        "outputId": "85fe7fea-0a81-4443-923a-d1ccc978a2e0"
      },
      "execution_count": 24,
      "outputs": [
        {
          "output_type": "stream",
          "name": "stdout",
          "text": [
            "Enter your username: Abiola\n",
            "Enter your favourite colour: blue\n",
            "Enter your favourite hobby: playing football\n",
            "Enter your moodhappy\n",
            "Hello Abiola! i bet you look great in blue while playing the playing football\n"
          ]
        }
      ]
    },
    {
      "cell_type": "code",
      "source": [],
      "metadata": {
        "id": "ZwY7UE5KzTeE"
      },
      "execution_count": null,
      "outputs": []
    }
  ]
}